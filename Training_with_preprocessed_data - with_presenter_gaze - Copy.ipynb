{
 "cells": [
  {
   "cell_type": "code",
   "execution_count": 1,
   "metadata": {},
   "outputs": [],
   "source": [
    "import numpy as np\n",
    "import os\n",
    "import statistics as st\n",
    "import matplotlib.pyplot as plt\n",
    "from scipy.optimize import least_squares\n",
    "from tqdm import tqdm\n",
    "out_path=r'D:\\Kinect Tools\\Nahian\\Code Backup Mar 29\\All_code_f\\Neo_offline_track\\Dataset\\Jan 19_per_frame'\n",
    "if not os.path.exists(out_path):\n",
    "    os.makedirs(out_path)\n"
   ]
  },
  {
   "cell_type": "code",
   "execution_count": 2,
   "metadata": {},
   "outputs": [
    {
     "name": "stdout",
     "output_type": "stream",
     "text": [
      "(20992, 2)\n",
      "[[1. 4.]\n",
      " [2. 4.]\n",
      " [3. 4.]\n",
      " [4. 4.]\n",
      " [5. 4.]]\n"
     ]
    }
   ],
   "source": [
    "a=np.load(r'D:\\Kinect Tools\\Nahian\\Code Backup Mar 29\\All_code_f\\Neo_offline_track\\GT data\\Jan 19_per_frame\\ video_gtpf_1.npy')\n",
    "print(a.shape)\n",
    "print(a[0:5,:])\n"
   ]
  },
  {
   "cell_type": "code",
   "execution_count": 3,
   "metadata": {},
   "outputs": [
    {
     "name": "stdout",
     "output_type": "stream",
     "text": [
      "20992.0\n",
      "   Frame Max frame for video=  1  =  20992.0\n",
      "Max frame for video=  1  =  20992.0\n",
      "  and last frame =  20992.0\n",
      "(20992, 2)\n",
      "   Frame Max frame for all video =  20992.0\n",
      "Max frame for all video =  20992.0\n"
     ]
    }
   ],
   "source": [
    "#load all video GT\n",
    "#all_gt=np.load(r'D:\\Kinect Tools\\Nahian\\Code Backup Mar 29\\All_code_f\\Neo_offline_track\\GT data\\Feb 2_per_frame\\all_gt.npy')\n",
    "#print(all_gt.shape)\n",
    "#b=np.where(all_gt[:,1]==6)[0]\n",
    "#print(all_gt[-4491,0])\n",
    "\n",
    "all_gt=np.array([]).reshape(0,2)\n",
    "\n",
    "frame_max=0\n",
    "\n",
    "for i in range(1,2):\n",
    "    gt=np.load(r'D:\\Kinect Tools\\Nahian\\Code Backup Mar 29\\All_code_f\\Neo_offline_track\\GT data\\Jan 19_per_frame\\ video_gtpf_'+str(i)+'.npy')\n",
    "    print(gt[-1,0])\n",
    "    frame_max=max(frame_max,gt[-1,0])\n",
    "    if i>1:\n",
    "        gt[:,0]=gt[:,0]+frame_max\n",
    "    frame_max=gt[-1,0]\n",
    "    print(\"   Frame Max frame for video= \",str(i),\" = \",frame_max)\n",
    "    print(\"Max frame for video= \",str(i),\" = \",np.max(gt[:,0]))\n",
    "    all_gt=np.concatenate((all_gt,gt),axis=0)\n",
    "    print(\"  and last frame = \",all_gt[-1,0])\n",
    "print(all_gt.shape)\n",
    "print(\"   Frame Max frame for all video = \",frame_max)\n",
    "print(\"Max frame for all video = \",np.max(all_gt[:,0]))\n",
    "    \n"
   ]
  },
  {
   "cell_type": "code",
   "execution_count": 4,
   "metadata": {},
   "outputs": [
    {
     "name": "stdout",
     "output_type": "stream",
     "text": [
      "(76099, 17)\n",
      "   Frame Max frame for video=  1  =  20992.0\n",
      "Max frame for video=  1  =  20992.0\n",
      " and Last frame=  20992.0\n",
      "(76099, 17)\n",
      "20992.0\n"
     ]
    }
   ],
   "source": [
    "a=np.load(r'D:\\Kinect Tools\\Nahian\\Code Backup Mar 29\\All_code_f\\Neo_offline_track\\output_data_processed\\Jan 19_2\\video_1.npy')\n",
    "#print(a.shape)\n",
    "#print(a[1000,:])\n",
    "#print(np.max(a[:,0]))\n",
    "\n",
    "#load all video data\n",
    "frame_max=0\n",
    "all_data=np.array([]).reshape(-1,a.shape[1])\n",
    "for i in range(1,2):\n",
    "    a=np.load(r'D:\\Kinect Tools\\Nahian\\Code Backup Mar 29\\All_code_f\\Neo_offline_track\\output_data_processed\\Jan 19_2\\video_'+str(i)+'.npy')\n",
    "    print(a.shape)\n",
    "    frame_max=max(frame_max,np.max(a[:,0]))\n",
    "    if i>1:\n",
    "        a[:,0]=a[:,0]+frame_max\n",
    "    frame_max=np.max(a[:,0])\n",
    "    print(\"   Frame Max frame for video= \",str(i),\" = \",frame_max)\n",
    "    print(\"Max frame for video= \",str(i),\" = \",np.max(a[:,0]))\n",
    "    all_data=np.vstack((all_data,a))\n",
    "    print(\" and Last frame= \",all_data[-1,0])\n",
    "print(all_data.shape)\n",
    "\n",
    "print(all_data[-1,0])\n"
   ]
  },
  {
   "cell_type": "code",
   "execution_count": 5,
   "metadata": {},
   "outputs": [
    {
     "name": "stdout",
     "output_type": "stream",
     "text": [
      "Having 6:  (0,)\n",
      "(0,)\n",
      "(20992, 2)\n",
      "(0,)\n",
      "0\n",
      "Having 5:  (0,)\n",
      "All gt sampled=  (20992, 2)\n",
      "(0,)\n",
      "(0,)\n",
      "0\n",
      "Having 4:  (1590,)\n",
      "All gt sampled=  (20992, 2)\n",
      "All gt sampled=  (19402, 2)\n",
      "(0,)\n",
      "(1590,)\n",
      "2106\n",
      "(19402,)\n",
      "(19402, 2)\n"
     ]
    }
   ],
   "source": [
    "#sample the data where activity class is 6\n",
    "\n",
    "#Delete 6\n",
    "b=np.where(all_gt[:,1]==6)[0]\n",
    "print(\"Having 6: \",b.shape)\n",
    "frames_to_delete=all_gt[b,0]\n",
    "print(frames_to_delete.shape)\n",
    "all_gt_sampled=np.delete(all_gt,b,0)\n",
    "print(all_gt_sampled.shape)\n",
    "b_ver=np.where(all_gt_sampled[:,1]==6)[0]\n",
    "print(b_ver.shape)\n",
    "\n",
    "\n",
    "\n",
    "#delete the frames from all_data\n",
    "b=[indices for indices, x in enumerate(all_data[:,0]) if x in frames_to_delete]\n",
    "print(len(b))\n",
    "all_data_sampled=np.delete(all_data,b,0)\n",
    "\n",
    "\n",
    "#Delete 5\n",
    "b=np.where(all_gt_sampled[:,1]==5)[0]\n",
    "print(\"Having 5: \",b.shape)\n",
    "frames_to_delete=all_gt_sampled[b,0]\n",
    "all_gt_sampled=np.delete(all_gt_sampled,b,0)\n",
    "print(\"All gt sampled= \",all_gt_sampled.shape)\n",
    "b_ver=np.where(all_gt_sampled[:,1]==5)[0]\n",
    "print(b_ver.shape)\n",
    "\n",
    "print(frames_to_delete.shape)\n",
    "\n",
    "#delete the frames from all_data\n",
    "b=[indices for indices, x in enumerate(all_data_sampled[:,0]) if x in frames_to_delete]\n",
    "print(len(b))\n",
    "all_data_sampled=np.delete(all_data_sampled,b,0)\n",
    "\n",
    "\n",
    "#Delete 4\n",
    "b=np.where(all_gt_sampled[:,1]==4)[0]\n",
    "print(\"Having 4: \",b.shape)\n",
    "print(\"All gt sampled= \",all_gt_sampled.shape)\n",
    "frames_to_delete=all_gt_sampled[b,0]\n",
    "all_gt_sampled=np.delete(all_gt_sampled,b,0)\n",
    "print(\"All gt sampled= \",all_gt_sampled.shape)\n",
    "b_ver=np.where(all_gt_sampled[:,1]==4)[0]\n",
    "print(b_ver.shape)\n",
    "\n",
    "print(frames_to_delete.shape)\n",
    "\n",
    "#delete the frames from all_data\n",
    "b=[indices for indices, x in enumerate(all_data_sampled[:,0]) if x in frames_to_delete]\n",
    "print(len(b))\n",
    "all_data_sampled=np.delete(all_data_sampled,b,0)\n",
    "\n",
    "\n",
    "\n",
    "unique_frames=np.unique(all_data_sampled[:,0])\n",
    "print(unique_frames.shape)\n",
    "print(all_gt_sampled.shape)\n",
    "\n"
   ]
  },
  {
   "cell_type": "code",
   "execution_count": 6,
   "metadata": {},
   "outputs": [
    {
     "name": "stdout",
     "output_type": "stream",
     "text": [
      "20992.0\n"
     ]
    }
   ],
   "source": [
    "print(np.max(all_data_sampled[:,0]))"
   ]
  },
  {
   "cell_type": "code",
   "execution_count": 7,
   "metadata": {},
   "outputs": [],
   "source": [
    "#One hot encoding\n",
    "\n",
    "all_gt_sampled_oh=np.zeros((all_gt_sampled.shape[0],4))\n",
    "\n",
    "for i in range(all_gt_sampled.shape[0]):\n",
    "    all_gt_sampled_oh[i,int(all_gt_sampled[i,1])-1]=1\n"
   ]
  },
  {
   "cell_type": "code",
   "execution_count": 8,
   "metadata": {},
   "outputs": [
    {
     "name": "stdout",
     "output_type": "stream",
     "text": [
      "3.0\n"
     ]
    }
   ],
   "source": [
    "print(np.max(all_gt_sampled[:,1]))\n",
    "\n"
   ]
  },
  {
   "cell_type": "code",
   "execution_count": 9,
   "metadata": {},
   "outputs": [],
   "source": [
    "\n",
    "\n",
    "def close_point(heads,unit_vects):\n",
    "    \n",
    "    heads=np.transpose(heads)\n",
    "\n",
    "    Ttr=unit_vects\n",
    "    #unit_vects=-1*unit_vects\n",
    "    unit_vects=np.transpose(unit_vects)\n",
    "    T=np.transpose(Ttr)\n",
    "\n",
    "    I=np.identity(3)\n",
    "    C_prime=np.zeros(heads.shape)\n",
    "    #sum_v=np.zeros((3,3,heads.shape[1]))\n",
    "    #sum_c=0\n",
    "    for i in range(heads.shape[1]):\n",
    "        #C_prime[:,i]=heads[:,i]-np.dot(heads[:,i],unit_vects[:,i])*unit_vects[:,i]\n",
    "        C_prime[:,i]=heads[:,i]-unit_vects[:,i]*np.matmul(np.transpose(heads[:,i]),unit_vects[:,i])\n",
    "        #sum_v=sum_v+np.matmul(unit_vects[:,i],np.transpose(unit_vects[:,i]))\n",
    "        #sum_v[:,:,i]=np.outer(unit_vects[:,i],unit_vects[:,i])\n",
    "\n",
    "        #print(\"Trouble shoot\",np.dot(C_prime[:,i],unit_vects[:,i]))\n",
    "    sum_c=np.sum(C_prime,axis=1)\n",
    "    #sum_v=np.nan_to_num(sum_v/(heads.shape[1]))\n",
    "    #sum_v=np.nan_to_num(np.sum(sum_v,axis=2)/(heads.shape[1]))\n",
    "    \n",
    "    sum_c=sum_c/heads.shape[1]\n",
    "    #sum_v_inv=np.linalg.inv((I-sum_v))\n",
    "    \n",
    "    V=np.nan_to_num(np.matmul(T,Ttr))\n",
    "\n",
    "    #print(\"V= \",V)\n",
    "    #print(\"Det of V= \",np.linalg.det(V))\n",
    "\n",
    "    sum_v_inv=np.linalg.pinv(I-V/heads.shape[1])\n",
    "    #sum_v_inv=np.linalg.pinv(I-sum_v)#/heads.shape[1])\n",
    "\n",
    "    #print(\"sum_v_inv= \",sum_v_inv)\n",
    "    \"\"\"\n",
    "    w,_=np.linalg.eig(V)\n",
    "    trc=np.trace(V)\n",
    "    \n",
    "    \"\"\"\n",
    "    #uniq=np.unique(w)\n",
    "    #if len(uniq)!=3 or np.linalg.det(sum_v_inv)==0:\n",
    "    #    print(\"Eigen values are not unique\")\n",
    "    #    print(\"Eigen values are \",w)\n",
    "    X=np.matmul(sum_v_inv,sum_c)\n",
    "    X=np.nan_to_num(np.transpose(X))\n",
    "    return X\n",
    "    "
   ]
  },
  {
   "cell_type": "code",
   "execution_count": 10,
   "metadata": {},
   "outputs": [
    {
     "name": "stdout",
     "output_type": "stream",
     "text": [
      "(5, 3)\n",
      "[0.19996011 0.99999973 0.99999999]\n"
     ]
    },
    {
     "name": "stderr",
     "output_type": "stream",
     "text": [
      "100%|██████████| 19402/19402 [00:05<00:00, 3324.31it/s]\n"
     ]
    }
   ],
   "source": [
    "\n",
    "\n",
    "def objective(point, *points):\n",
    "    distances = []\n",
    "    for p in points:\n",
    "        distances.append(np.linalg.norm(p - point))\n",
    "    return distances\n",
    "\n",
    "\n",
    "\n",
    "\n",
    "# sample input points\n",
    "points = np.array([[1,1,1], [-1,1,1], [1,1,1],[-1,1,1],[1,1,1]])\n",
    "\n",
    "#points = np.array([[1,1,1]])\n",
    "print(points.shape)\n",
    "\n",
    "# initial guess for the solution point\n",
    "x0 = np.array([0,0,1])\n",
    "\n",
    "# perform least squares optimization\n",
    "result = least_squares(objective, x0, args=tuple(points))\n",
    "\n",
    "\n",
    "print(result.x)\n",
    "\n",
    "\n",
    "#Feature extraction\n",
    "\n",
    "all_features=np.zeros((all_gt_sampled_oh.shape[0],6))\n",
    "\n",
    "i=0\n",
    "for frames in tqdm(unique_frames):\n",
    "    b=np.where(all_data_sampled[:,0]==frames)[0]\n",
    "    current_frame=all_data_sampled[b,:]\n",
    "    poses=(current_frame[:,3]>1300).astype(int).reshape(current_frame.shape[0],1) \n",
    "    all_features[i,3]=sum(poses)#standing calculated\n",
    "    all_features[i,4]=current_frame.shape[0]-sum(poses)#sitting\n",
    "\n",
    "\n",
    "\n",
    "    #Default\n",
    "    sampled_current_frame=current_frame.copy()\n",
    "    sampled_points=sampled_current_frame[:,11:14]/(np.linalg.norm(sampled_current_frame[:,11:14])+0.00001)\n",
    "    sampled_heads=sampled_current_frame[:,1:4]\n",
    "\n",
    "    #x0 = np.array([1,1,1])\n",
    "    #result = least_squares(objective, x0, args=tuple(sampled_points))\n",
    "    #gaze_point=result.x/np.linalg.norm(result.x)\n",
    "    gaze_point=close_point(sampled_heads,sampled_points)\n",
    "\n",
    "    all_features[i,0:3]=gaze_point\n",
    "\n",
    "\n",
    "\n",
    "    if sum(poses)>0 and sum(poses)<current_frame.shape[0]: #Some standing, some sitting\n",
    "        y_values=np.zeros((current_frame.shape[0],1))\n",
    "        x_values=np.zeros((current_frame.shape[0],1))\n",
    "        z_values=np.zeros((current_frame.shape[0],1))\n",
    "        flag_presentation=0\n",
    "        \n",
    "        \n",
    "        if sum(poses)<=0.5*current_frame.shape[0]: #Most people sitting\n",
    "            for j in range(current_frame.shape[0]):\n",
    "                y_values[j]=current_frame[j,2]\n",
    "                x_values[j]=current_frame[j,1]\n",
    "                z_values[j]=current_frame[j,3]\n",
    "            \n",
    "            alu_gaze=[]\n",
    "\n",
    "            for j in range(current_frame.shape[0]):\n",
    "                if (y_values[j]>9600 and x_values[j]>1850 and x_values[j]<4200 and z_values[j]>1300) or (y_values[j]>9200 and x_values[j]>2400 and x_values[j]<4200 and z_values[j]>1300) : # Presenter is standing, most people sitting\n",
    "                    flag_presentation=1\n",
    "                    all_features[i,5]=1\n",
    "                    other_ids=np.delete(np.arange(current_frame.shape[0]),j)\n",
    "                    #sampled_current_frame=current_frame[other_ids,:]\n",
    "                    sampled_current_frame=current_frame.copy()\n",
    "                    sampled_points=sampled_current_frame[:,11:14]/(np.linalg.norm(sampled_current_frame[:,11:14])+0.00001)\n",
    "                    sampled_heads=sampled_current_frame[:,1:4]\n",
    "\n",
    "                    #x0 = np.array([1,1,1])\n",
    "                    #result = least_squares(objective, x0, args=tuple(sampled_points))\n",
    "                    #gaze_point=result.x/np.linalg.norm(result.x)\n",
    "                    gaze_point=close_point(sampled_heads,sampled_points)\n",
    "\n",
    "                    all_features[i,0:3]=gaze_point\n",
    "                    break\n",
    "    else:\n",
    "        all_features[i,5]=0\n",
    "        sampled_points=current_frame[:,11:14]/(np.linalg.norm(current_frame[:,11:14])+0.00001)\n",
    "        sampled_heads=current_frame[:,1:4]\n",
    "        \n",
    "        #x0 = np.array([1,1,1])\n",
    "        #result = least_squares(objective, x0, args=tuple(sampled_points))\n",
    "        #gaze_point=result.x/np.linalg.norm(result.x)\n",
    "        gaze_point=close_point(sampled_heads,sampled_points)\n",
    "        all_features[i,0:3]=gaze_point\n",
    "    i=i+1\n",
    "\n",
    "\n",
    "\n",
    "    #print(all_data_sampled[b,1:])"
   ]
  },
  {
   "cell_type": "code",
   "execution_count": 11,
   "metadata": {},
   "outputs": [
    {
     "name": "stdout",
     "output_type": "stream",
     "text": [
      "(19402, 6)\n",
      "(19402, 4)\n"
     ]
    }
   ],
   "source": [
    "print(all_features.shape)\n",
    "print(all_gt_sampled_oh.shape)\n"
   ]
  },
  {
   "cell_type": "code",
   "execution_count": 12,
   "metadata": {},
   "outputs": [
    {
     "name": "stdout",
     "output_type": "stream",
     "text": [
      "(3881,)\n",
      "0.6926049987116722\n",
      "[[  28  754    0]\n",
      " [   0 2660    0]\n",
      " [   0  439    0]]\n",
      "              precision    recall  f1-score   support\n",
      "\n",
      "           0       1.00      0.04      0.07       782\n",
      "           1       0.69      1.00      0.82      2660\n",
      "           2       0.00      0.00      0.00       439\n",
      "\n",
      "    accuracy                           0.69      3881\n",
      "   macro avg       0.56      0.35      0.30      3881\n",
      "weighted avg       0.67      0.69      0.57      3881\n",
      "\n",
      "PERFORMANCE on TRAINING SET\n"
     ]
    },
    {
     "name": "stderr",
     "output_type": "stream",
     "text": [
      "c:\\Users\\Nahian\\anaconda3\\envs\\pyKinectAzure\\lib\\site-packages\\sklearn\\metrics\\_classification.py:1344: UndefinedMetricWarning: Precision and F-score are ill-defined and being set to 0.0 in labels with no predicted samples. Use `zero_division` parameter to control this behavior.\n",
      "  _warn_prf(average, modifier, msg_start, len(result))\n",
      "c:\\Users\\Nahian\\anaconda3\\envs\\pyKinectAzure\\lib\\site-packages\\sklearn\\metrics\\_classification.py:1344: UndefinedMetricWarning: Precision and F-score are ill-defined and being set to 0.0 in labels with no predicted samples. Use `zero_division` parameter to control this behavior.\n",
      "  _warn_prf(average, modifier, msg_start, len(result))\n",
      "c:\\Users\\Nahian\\anaconda3\\envs\\pyKinectAzure\\lib\\site-packages\\sklearn\\metrics\\_classification.py:1344: UndefinedMetricWarning: Precision and F-score are ill-defined and being set to 0.0 in labels with no predicted samples. Use `zero_division` parameter to control this behavior.\n",
      "  _warn_prf(average, modifier, msg_start, len(result))\n"
     ]
    },
    {
     "name": "stdout",
     "output_type": "stream",
     "text": [
      "0.997165131112686\n",
      "[[ 2954    44     0]\n",
      " [    0 10682     0]\n",
      " [    0     0  1841]]\n",
      "              precision    recall  f1-score   support\n",
      "\n",
      "           0       1.00      0.99      0.99      2998\n",
      "           1       1.00      1.00      1.00     10682\n",
      "           2       1.00      1.00      1.00      1841\n",
      "\n",
      "    accuracy                           1.00     15521\n",
      "   macro avg       1.00      1.00      1.00     15521\n",
      "weighted avg       1.00      1.00      1.00     15521\n",
      "\n"
     ]
    }
   ],
   "source": [
    "#Train SVM\n",
    "from sklearn import svm\n",
    "from sklearn.model_selection import train_test_split\n",
    "from sklearn.metrics import accuracy_score\n",
    "from sklearn.metrics import confusion_matrix\n",
    "from sklearn.metrics import classification_report\n",
    "\n",
    "\n",
    "\n",
    "X_train, X_test, y_train, y_test = train_test_split(all_features, all_gt_sampled_oh, test_size=0.2, random_state=42)\n",
    "y_train=np.argmax(y_train, axis=1)\n",
    "y_test=np.argmax(y_test, axis=1)\n",
    "\n",
    "\n",
    "clf = svm.SVC(kernel='rbf', C=1, gamma=0.1).fit(X_train, y_train)\n",
    "y_pred = clf.predict(X_test)\n",
    "print(y_pred.shape)\n",
    "\n",
    "print(accuracy_score(y_test, y_pred))\n",
    "print(confusion_matrix(y_test, y_pred))\n",
    "print(classification_report(y_test, y_pred))\n",
    "\n",
    "\n",
    "print(\"PERFORMANCE on TRAINING SET\")\n",
    "y_pred_train = clf.predict(X_train)\n",
    "print(accuracy_score(y_train, y_pred_train))\n",
    "print(confusion_matrix(y_train, y_pred_train))\n",
    "print(classification_report(y_train, y_pred_train))\n"
   ]
  },
  {
   "cell_type": "code",
   "execution_count": 13,
   "metadata": {},
   "outputs": [],
   "source": [
    "import os\n",
    "save_feature_path=os.path.join(out_path,'all_features_Jan19.npy')\n",
    "np.save(save_feature_path,all_features)\n",
    "save_gt_path=os.path.join(out_path,'all_gt_Jan19.npy')\n",
    "np.save(save_gt_path,all_gt_sampled_oh)"
   ]
  },
  {
   "cell_type": "code",
   "execution_count": null,
   "metadata": {},
   "outputs": [],
   "source": []
  },
  {
   "cell_type": "code",
   "execution_count": null,
   "metadata": {},
   "outputs": [],
   "source": []
  },
  {
   "cell_type": "code",
   "execution_count": 14,
   "metadata": {},
   "outputs": [
    {
     "name": "stdout",
     "output_type": "stream",
     "text": [
      "0.9969590763838779\n",
      "[[ 3723    57     0]\n",
      " [    0 13342     0]\n",
      " [    0     2  2278]]\n",
      "              precision    recall  f1-score   support\n",
      "\n",
      "           0       1.00      0.98      0.99      3780\n",
      "           1       1.00      1.00      1.00     13342\n",
      "           2       1.00      1.00      1.00      2280\n",
      "\n",
      "    accuracy                           1.00     19402\n",
      "   macro avg       1.00      0.99      1.00     19402\n",
      "weighted avg       1.00      1.00      1.00     19402\n",
      "\n"
     ]
    },
    {
     "data": {
      "image/png": "[encoded data removed]",
      "text/plain": [
       "<Figure size 1440x720 with 1 Axes>"
      ]
     },
     "metadata": {
      "needs_background": "light"
     },
     "output_type": "display_data"
    }
   ],
   "source": [
    "#do for entire training set\n",
    "\n",
    "train_labels=np.argmax(all_gt_sampled_oh, axis=1)\n",
    "clf = svm.SVC(kernel='rbf', C=1, gamma=0.1).fit(all_features, train_labels)\n",
    "\n",
    "y_pred_train = clf.predict(all_features)\n",
    "print(accuracy_score(train_labels, y_pred_train))\n",
    "print(confusion_matrix(train_labels, y_pred_train))\n",
    "print(classification_report(train_labels, y_pred_train))\n",
    "\n",
    "import matplotlib.pyplot as plt\n",
    "plt.figure(figsize=(20,10))\n",
    "plt.plot(y_pred_train, 'r')\n",
    "plt.plot(train_labels+0.2, 'b')\n",
    "plt.title('Train set')\n",
    "plt.show()"
   ]
  },
  {
   "cell_type": "code",
   "execution_count": 15,
   "metadata": {},
   "outputs": [
    {
     "data": {
      "image/png": "[encoded data removed]",
      "text/plain": [
       "<Figure size 1440x720 with 1 Axes>"
      ]
     },
     "metadata": {
      "needs_background": "light"
     },
     "output_type": "display_data"
    },
    {
     "name": "stdout",
     "output_type": "stream",
     "text": [
      "0.9891248324914957\n",
      "[[ 3653   127     0]\n",
      " [   56 13272    14]\n",
      " [    0    14  2266]]\n",
      "              precision    recall  f1-score   support\n",
      "\n",
      "           0       0.98      0.97      0.98      3780\n",
      "           1       0.99      0.99      0.99     13342\n",
      "           2       0.99      0.99      0.99      2280\n",
      "\n",
      "    accuracy                           0.99     19402\n",
      "   macro avg       0.99      0.99      0.99     19402\n",
      "weighted avg       0.99      0.99      0.99     19402\n",
      "\n"
     ]
    }
   ],
   "source": [
    "#Smoothing\n",
    "from statistics import mode\n",
    "\n",
    "y_pred_train_smooth=np.zeros(y_pred_train.shape)\n",
    "for i in range(0,y_pred_train.shape[0]-30):\n",
    "    y_pred_train_smooth[i:i+30]=mode(y_pred_train[i:i+30])\n",
    "y_pred_train_smooth[-30:]=mode(y_pred_train[-30:])\n",
    "\n",
    "\n",
    "plt.figure(figsize=(20,10))\n",
    "plt.plot(y_pred_train_smooth, 'r')\n",
    "plt.plot(train_labels+0.2, 'b')\n",
    "plt.title('Train set smoothed')\n",
    "\n",
    "plt.show()\n",
    "\n",
    "print(accuracy_score(train_labels, y_pred_train_smooth))\n",
    "print(confusion_matrix(train_labels, y_pred_train_smooth))\n",
    "print(classification_report(train_labels, y_pred_train_smooth))"
   ]
  },
  {
   "cell_type": "code",
   "execution_count": 16,
   "metadata": {},
   "outputs": [
    {
     "name": "stdout",
     "output_type": "stream",
     "text": [
      "0.9969075353056386\n",
      "[[ 3722    58     0]\n",
      " [    0 13342     0]\n",
      " [    0     2  2278]]\n",
      "              precision    recall  f1-score   support\n",
      "\n",
      "           0       1.00      0.98      0.99      3780\n",
      "           1       1.00      1.00      1.00     13342\n",
      "           2       1.00      1.00      1.00      2280\n",
      "\n",
      "    accuracy                           1.00     19402\n",
      "   macro avg       1.00      0.99      1.00     19402\n",
      "weighted avg       1.00      1.00      1.00     19402\n",
      "\n"
     ]
    },
    {
     "data": {
      "image/png": "[encoded data removed]",
      "text/plain": [
       "<Figure size 1440x720 with 1 Axes>"
      ]
     },
     "metadata": {
      "needs_background": "light"
     },
     "output_type": "display_data"
    }
   ],
   "source": [
    "#Ablation study\n",
    "\n",
    "#Take only gaze as feature\n",
    "train_labels=np.argmax(all_gt_sampled_oh, axis=1)\n",
    "clf_gaze = svm.SVC(kernel='rbf', C=1, gamma=0.1).fit(all_features[:,0:3], train_labels)\n",
    "\n",
    "y_pred_train = clf_gaze.predict(all_features[:,0:3])\n",
    "print(accuracy_score(train_labels, y_pred_train))\n",
    "print(confusion_matrix(train_labels, y_pred_train))\n",
    "print(classification_report(train_labels, y_pred_train))\n",
    "\n",
    "import matplotlib.pyplot as plt\n",
    "plt.figure(figsize=(20,10))\n",
    "plt.plot(y_pred_train, 'r')\n",
    "plt.plot(train_labels+0.2, 'b')\n",
    "plt.title('Train set with only gaze feature')\n",
    "plt.show()\n"
   ]
  },
  {
   "cell_type": "code",
   "execution_count": 17,
   "metadata": {},
   "outputs": [
    {
     "name": "stdout",
     "output_type": "stream",
     "text": [
      "0.9969075353056386\n",
      "[[ 3722    58     0]\n",
      " [    0 13342     0]\n",
      " [    0     2  2278]]\n",
      "              precision    recall  f1-score   support\n",
      "\n",
      "           0       1.00      0.98      0.99      3780\n",
      "           1       1.00      1.00      1.00     13342\n",
      "           2       1.00      1.00      1.00      2280\n",
      "\n",
      "    accuracy                           1.00     19402\n",
      "   macro avg       1.00      0.99      1.00     19402\n",
      "weighted avg       1.00      1.00      1.00     19402\n",
      "\n"
     ]
    },
    {
     "data": {
      "image/png": "[encoded data removed]",
      "text/plain": [
       "<Figure size 1440x720 with 1 Axes>"
      ]
     },
     "metadata": {
      "needs_background": "light"
     },
     "output_type": "display_data"
    }
   ],
   "source": [
    "#Ablaion study\n",
    "#Scaling of features\n",
    "all_features_scaled=all_features.copy()\n",
    "all_features_scaled[:,3]=all_features_scaled[:,3]/(all_features_scaled[:,3]+all_features_scaled[:,4]+0.00001)\n",
    "all_features_scaled[:,4]=all_features_scaled[:,4]/(all_features_scaled[:,3]+all_features_scaled[:,4]+0.00001)\n",
    "\n",
    "\n",
    "train_labels=np.argmax(all_gt_sampled_oh, axis=1)\n",
    "clf_scaled = svm.SVC(kernel='rbf', C=1, gamma=0.1).fit(all_features_scaled, train_labels)\n",
    "\n",
    "y_pred_train = clf_scaled.predict(all_features_scaled)\n",
    "print(accuracy_score(train_labels, y_pred_train))\n",
    "print(confusion_matrix(train_labels, y_pred_train))\n",
    "print(classification_report(train_labels, y_pred_train))\n",
    "\n",
    "import matplotlib.pyplot as plt\n",
    "plt.figure(figsize=(20,10))\n",
    "plt.plot(y_pred_train, 'r')\n",
    "plt.plot(train_labels+0.2, 'b')\n",
    "plt.title('Train set with scaled features')\n",
    "plt.show()"
   ]
  },
  {
   "cell_type": "code",
   "execution_count": 18,
   "metadata": {},
   "outputs": [
    {
     "name": "stdout",
     "output_type": "stream",
     "text": [
      "4492.0\n",
      "   Frame Max frame for video=  1  =  4492.0\n",
      "Max frame for video=  1  =  4492.0\n",
      "  and last frame =  4492.0\n",
      "4491.0\n",
      "   Frame Max frame for video=  2  =  8983.0\n",
      "Max frame for video=  2  =  8983.0\n",
      "  and last frame =  8983.0\n",
      "4491.0\n",
      "   Frame Max frame for video=  3  =  13474.0\n",
      "Max frame for video=  3  =  13474.0\n",
      "  and last frame =  13474.0\n",
      "4491.0\n",
      "   Frame Max frame for video=  4  =  17965.0\n",
      "Max frame for video=  4  =  17965.0\n",
      "  and last frame =  17965.0\n",
      "4492.0\n",
      "   Frame Max frame for video=  5  =  22457.0\n",
      "Max frame for video=  5  =  22457.0\n",
      "  and last frame =  22457.0\n",
      "4491.0\n",
      "   Frame Max frame for video=  6  =  26948.0\n",
      "Max frame for video=  6  =  26948.0\n",
      "  and last frame =  26948.0\n",
      "4491.0\n",
      "   Frame Max frame for video=  7  =  31439.0\n",
      "Max frame for video=  7  =  31439.0\n",
      "  and last frame =  31439.0\n",
      "4491.0\n",
      "   Frame Max frame for video=  8  =  35930.0\n",
      "Max frame for video=  8  =  35930.0\n",
      "  and last frame =  35930.0\n",
      "4491.0\n",
      "   Frame Max frame for video=  9  =  40421.0\n",
      "Max frame for video=  9  =  40421.0\n",
      "  and last frame =  40421.0\n",
      "4491.0\n",
      "   Frame Max frame for video=  10  =  44912.0\n",
      "Max frame for video=  10  =  44912.0\n",
      "  and last frame =  44912.0\n",
      "4491.0\n",
      "   Frame Max frame for video=  11  =  49403.0\n",
      "Max frame for video=  11  =  49403.0\n",
      "  and last frame =  49403.0\n",
      "4491.0\n",
      "   Frame Max frame for video=  12  =  53894.0\n",
      "Max frame for video=  12  =  53894.0\n",
      "  and last frame =  53894.0\n",
      "4491.0\n",
      "   Frame Max frame for video=  13  =  58385.0\n",
      "Max frame for video=  13  =  58385.0\n",
      "  and last frame =  58385.0\n",
      "(58385, 2)\n",
      "   Frame Max frame for all video =  58385.0\n",
      "Max frame for all video =  58385.0\n",
      "(18357, 17)\n",
      "   Frame Max frame for video=  1  =  4492.0\n",
      "Max frame for video=  1  =  4492.0\n",
      " and Last frame=  4492.0\n",
      "(20823, 17)\n",
      "   Frame Max frame for video=  2  =  8983.0\n",
      "Max frame for video=  2  =  8983.0\n",
      " and Last frame=  8983.0\n",
      "(18883, 17)\n",
      "   Frame Max frame for video=  3  =  13474.0\n",
      "Max frame for video=  3  =  13474.0\n",
      " and Last frame=  13474.0\n",
      "(22475, 17)\n",
      "   Frame Max frame for video=  4  =  17965.0\n",
      "Max frame for video=  4  =  17965.0\n",
      " and Last frame=  17965.0\n",
      "(26952, 17)\n",
      "   Frame Max frame for video=  5  =  22457.0\n",
      "Max frame for video=  5  =  22457.0\n",
      " and Last frame=  22457.0\n",
      "(26946, 17)\n",
      "   Frame Max frame for video=  6  =  26948.0\n",
      "Max frame for video=  6  =  26948.0\n",
      " and Last frame=  26948.0\n",
      "(31317, 17)\n",
      "   Frame Max frame for video=  7  =  31439.0\n",
      "Max frame for video=  7  =  31439.0\n",
      " and Last frame=  31439.0\n",
      "(31437, 17)\n",
      "   Frame Max frame for video=  8  =  35930.0\n",
      "Max frame for video=  8  =  35930.0\n",
      " and Last frame=  35930.0\n",
      "(31437, 17)\n",
      "   Frame Max frame for video=  9  =  40421.0\n",
      "Max frame for video=  9  =  40421.0\n",
      " and Last frame=  40421.0\n",
      "(31437, 17)\n",
      "   Frame Max frame for video=  10  =  44912.0\n",
      "Max frame for video=  10  =  44912.0\n",
      " and Last frame=  44912.0\n",
      "(31437, 17)\n",
      "   Frame Max frame for video=  11  =  49403.0\n",
      "Max frame for video=  11  =  49403.0\n",
      " and Last frame=  49403.0\n",
      "(24859, 17)\n",
      "   Frame Max frame for video=  12  =  53894.0\n",
      "Max frame for video=  12  =  53894.0\n",
      " and Last frame=  53894.0\n",
      "(9771, 17)\n",
      "   Frame Max frame for video=  13  =  58385.0\n",
      "Max frame for video=  13  =  58385.0\n",
      " and Last frame=  58385.0\n",
      "(326131, 17)\n",
      "58385.0\n"
     ]
    }
   ],
   "source": [
    "#Trying to test on different video\n",
    "\n",
    "all_gt=np.array([]).reshape(0,2)\n",
    "\n",
    "frame_max=0\n",
    "\n",
    "for i in range(1,14):\n",
    "    gt=np.load(r'D:\\Kinect Tools\\Nahian\\Code Backup Mar 29\\All_code_f\\Neo_offline_track\\GT data\\Feb 2_per_frame\\ video_gtpf_'+str(i)+'.npy')\n",
    "    print(gt[-1,0])\n",
    "    frame_max=max(frame_max,gt[-1,0])\n",
    "    if i>1:\n",
    "        gt[:,0]=gt[:,0]+frame_max\n",
    "    frame_max=gt[-1,0]\n",
    "    print(\"   Frame Max frame for video= \",str(i),\" = \",frame_max)\n",
    "    print(\"Max frame for video= \",str(i),\" = \",np.max(gt[:,0]))\n",
    "    all_gt=np.concatenate((all_gt,gt),axis=0)\n",
    "    print(\"  and last frame = \",all_gt[-1,0])\n",
    "print(all_gt.shape)\n",
    "print(\"   Frame Max frame for all video = \",frame_max)\n",
    "print(\"Max frame for all video = \",np.max(all_gt[:,0]))\n",
    "    \n",
    "a=np.load(r'D:\\Kinect Tools\\Nahian\\Code Backup Mar 29\\All_code_f\\Neo_offline_track\\output_data_processed\\Feb 2_v6\\video_1.npy')\n",
    "#print(a.shape)\n",
    "#print(a[1000,:])\n",
    "#print(np.max(a[:,0]))\n",
    "\n",
    "#load all video data\n",
    "frame_max=0\n",
    "all_data=np.array([]).reshape(-1,a.shape[1])\n",
    "for i in range(1,14):\n",
    "    a=np.load(r'D:\\Kinect Tools\\Nahian\\Code Backup Mar 29\\All_code_f\\Neo_offline_track\\output_data_processed\\Feb 2_v6\\video_'+str(i)+'.npy')\n",
    "    print(a.shape)\n",
    "    frame_max=max(frame_max,np.max(a[:,0]))\n",
    "    if i>1:\n",
    "        a[:,0]=a[:,0]+frame_max\n",
    "    frame_max=np.max(a[:,0])\n",
    "    print(\"   Frame Max frame for video= \",str(i),\" = \",frame_max)\n",
    "    print(\"Max frame for video= \",str(i),\" = \",np.max(a[:,0]))\n",
    "    all_data=np.vstack((all_data,a))\n",
    "    print(\" and Last frame= \",all_data[-1,0])\n",
    "print(all_data.shape)\n",
    "\n",
    "print(all_data[-1,0])"
   ]
  },
  {
   "cell_type": "code",
   "execution_count": 19,
   "metadata": {},
   "outputs": [
    {
     "name": "stdout",
     "output_type": "stream",
     "text": [
      "Having 6:  (2352,)\n",
      "(2352,)\n",
      "(56033, 2)\n",
      "(0,)\n",
      "16464\n",
      "Having 5:  (2160,)\n",
      "All gt sampled=  (53873, 2)\n",
      "(0,)\n",
      "(2160,)\n",
      "10458\n",
      "Having 4:  (1371,)\n",
      "All gt sampled=  (53873, 2)\n",
      "All gt sampled=  (52502, 2)\n",
      "(0,)\n",
      "(1371,)\n",
      "1371\n",
      "(52502,)\n",
      "(52502, 2)\n"
     ]
    }
   ],
   "source": [
    "#sample the data where activity class is 6\n",
    "\n",
    "#Delete 6\n",
    "b=np.where(all_gt[:,1]==6)[0]\n",
    "print(\"Having 6: \",b.shape)\n",
    "frames_to_delete=all_gt[b,0]\n",
    "print(frames_to_delete.shape)\n",
    "all_gt_sampled=np.delete(all_gt,b,0)\n",
    "print(all_gt_sampled.shape)\n",
    "b_ver=np.where(all_gt_sampled[:,1]==6)[0]\n",
    "print(b_ver.shape)\n",
    "\n",
    "\n",
    "\n",
    "#delete the frames from all_data\n",
    "b=[indices for indices, x in enumerate(all_data[:,0]) if x in frames_to_delete]\n",
    "print(len(b))\n",
    "all_data_sampled=np.delete(all_data,b,0)\n",
    "\n",
    "\n",
    "#Delete 5\n",
    "b=np.where(all_gt_sampled[:,1]==5)[0]\n",
    "print(\"Having 5: \",b.shape)\n",
    "frames_to_delete=all_gt_sampled[b,0]\n",
    "all_gt_sampled=np.delete(all_gt_sampled,b,0)\n",
    "print(\"All gt sampled= \",all_gt_sampled.shape)\n",
    "b_ver=np.where(all_gt_sampled[:,1]==5)[0]\n",
    "print(b_ver.shape)\n",
    "\n",
    "print(frames_to_delete.shape)\n",
    "\n",
    "#delete the frames from all_data\n",
    "b=[indices for indices, x in enumerate(all_data_sampled[:,0]) if x in frames_to_delete]\n",
    "print(len(b))\n",
    "all_data_sampled=np.delete(all_data_sampled,b,0)\n",
    "\n",
    "\n",
    "#Delete 4\n",
    "b=np.where(all_gt_sampled[:,1]==4)[0]\n",
    "print(\"Having 4: \",b.shape)\n",
    "print(\"All gt sampled= \",all_gt_sampled.shape)\n",
    "frames_to_delete=all_gt_sampled[b,0]\n",
    "all_gt_sampled=np.delete(all_gt_sampled,b,0)\n",
    "print(\"All gt sampled= \",all_gt_sampled.shape)\n",
    "b_ver=np.where(all_gt_sampled[:,1]==4)[0]\n",
    "print(b_ver.shape)\n",
    "\n",
    "print(frames_to_delete.shape)\n",
    "\n",
    "#delete the frames from all_data\n",
    "b=[indices for indices, x in enumerate(all_data_sampled[:,0]) if x in frames_to_delete]\n",
    "print(len(b))\n",
    "all_data_sampled=np.delete(all_data_sampled,b,0)\n",
    "\n",
    "\n",
    "\n",
    "unique_frames=np.unique(all_data_sampled[:,0])\n",
    "print(unique_frames.shape)\n",
    "print(all_gt_sampled.shape)\n",
    "\n",
    "\n",
    "#One hot encoding\n",
    "\n",
    "all_gt_sampled_oh=np.zeros((all_gt_sampled.shape[0],4))\n",
    "\n",
    "for i in range(all_gt_sampled.shape[0]):\n",
    "    all_gt_sampled_oh[i,int(all_gt_sampled[i,1])-1]=1\n",
    "\n",
    "\n",
    "\n"
   ]
  },
  {
   "cell_type": "code",
   "execution_count": 20,
   "metadata": {},
   "outputs": [
    {
     "name": "stderr",
     "output_type": "stream",
     "text": [
      "100%|██████████| 52502/52502 [01:09<00:00, 756.09it/s]\n"
     ]
    }
   ],
   "source": [
    "\n",
    "#Feature extraction\n",
    "\n",
    "all_features=np.zeros((all_gt_sampled_oh.shape[0],6))\n",
    "\n",
    "i=0\n",
    "for frames in tqdm(unique_frames):\n",
    "    b=np.where(all_data_sampled[:,0]==frames)[0]\n",
    "    current_frame=all_data_sampled[b,:]\n",
    "    poses=(current_frame[:,3]>1300).astype(int).reshape(current_frame.shape[0],1) \n",
    "    all_features[i,3]=sum(poses)#standing\n",
    "    all_features[i,4]=current_frame.shape[0]-sum(poses)#sitting\n",
    "\n",
    "    if sum(poses)>0 and sum(poses)<current_frame.shape[0]: #Some standing, some sitting\n",
    "        y_values=np.zeros((current_frame.shape[0],1))\n",
    "        x_values=np.zeros((current_frame.shape[0],1))\n",
    "        z_values=np.zeros((current_frame.shape[0],1))\n",
    "        flag_presentation=0\n",
    "        \n",
    "        \n",
    "        if sum(poses)<=0.5*current_frame.shape[0]: #Most people sitting\n",
    "            for j in range(current_frame.shape[0]):\n",
    "                y_values[j]=current_frame[j,2]\n",
    "                x_values[j]=current_frame[j,1]\n",
    "                z_values[j]=current_frame[j,3]\n",
    "            \n",
    "            alu_gaze=[]\n",
    "\n",
    "            for j in range(current_frame.shape[0]):\n",
    "                if (y_values[j]>9600 and x_values[j]>1850 and x_values[j]<4200 and z_values[j]>1300) or (y_values[j]>9200 and x_values[j]>2400 and x_values[j]<4200 and z_values[j]>1300) : # Presenter is standing, most people sitting\n",
    "                    flag_presentation=1\n",
    "                    all_features[i,5]=1\n",
    "                    other_ids=np.delete(np.arange(current_frame.shape[0]),j)\n",
    "                    #sampled_current_frame=current_frame[other_ids,:]\n",
    "                    sampled_current_frame=current_frame.copy()\n",
    "                    sampled_points=sampled_current_frame[:,11:14]/(np.linalg.norm(sampled_current_frame[:,11:14])+0.00001)\n",
    "                    sampled_heads=sampled_current_frame[:,1:4]\n",
    "\n",
    "                    #x0 = np.array([1,1,1])\n",
    "                    #result = least_squares(objective, x0, args=tuple(sampled_points))\n",
    "                    #gaze_point=result.x/np.linalg.norm(result.x)\n",
    "                    gaze_point=close_point(sampled_heads,sampled_points)\n",
    "\n",
    "                    all_features[i,0:3]=gaze_point\n",
    "                    break\n",
    "    else:\n",
    "        all_features[i,5]=0\n",
    "        sampled_points=current_frame[:,11:14]/(np.linalg.norm(current_frame[:,11:14])+0.00001)\n",
    "        sampled_heads=current_frame[:,1:4]\n",
    "        \n",
    "        #x0 = np.array([1,1,1])\n",
    "        #result = least_squares(objective, x0, args=tuple(sampled_points))\n",
    "        #gaze_point=result.x/np.linalg.norm(result.x)\n",
    "        gaze_point=close_point(sampled_heads,sampled_points)\n",
    "        all_features[i,0:3]=gaze_point\n",
    "    i=i+1\n",
    "\n",
    "\n",
    "\n",
    "    #print(all_data_sampled[b,1:])"
   ]
  },
  {
   "cell_type": "code",
   "execution_count": 21,
   "metadata": {},
   "outputs": [
    {
     "name": "stdout",
     "output_type": "stream",
     "text": [
      "0.6486419564968954\n",
      "[[  730  9273     0]\n",
      " [ 2379 33325     0]\n",
      " [    0  6795     0]]\n",
      "              precision    recall  f1-score   support\n",
      "\n",
      "           0       0.23      0.07      0.11     10003\n",
      "           1       0.67      0.93      0.78     35704\n",
      "           2       0.00      0.00      0.00      6795\n",
      "\n",
      "    accuracy                           0.65     52502\n",
      "   macro avg       0.30      0.34      0.30     52502\n",
      "weighted avg       0.50      0.65      0.55     52502\n",
      "\n"
     ]
    },
    {
     "name": "stderr",
     "output_type": "stream",
     "text": [
      "c:\\Users\\Nahian\\anaconda3\\envs\\pyKinectAzure\\lib\\site-packages\\sklearn\\metrics\\_classification.py:1344: UndefinedMetricWarning: Precision and F-score are ill-defined and being set to 0.0 in labels with no predicted samples. Use `zero_division` parameter to control this behavior.\n",
      "  _warn_prf(average, modifier, msg_start, len(result))\n",
      "c:\\Users\\Nahian\\anaconda3\\envs\\pyKinectAzure\\lib\\site-packages\\sklearn\\metrics\\_classification.py:1344: UndefinedMetricWarning: Precision and F-score are ill-defined and being set to 0.0 in labels with no predicted samples. Use `zero_division` parameter to control this behavior.\n",
      "  _warn_prf(average, modifier, msg_start, len(result))\n",
      "c:\\Users\\Nahian\\anaconda3\\envs\\pyKinectAzure\\lib\\site-packages\\sklearn\\metrics\\_classification.py:1344: UndefinedMetricWarning: Precision and F-score are ill-defined and being set to 0.0 in labels with no predicted samples. Use `zero_division` parameter to control this behavior.\n",
      "  _warn_prf(average, modifier, msg_start, len(result))\n"
     ]
    },
    {
     "data": {
      "image/png": "[encoded data removed]",
      "text/plain": [
       "<Figure size 1440x720 with 1 Axes>"
      ]
     },
     "metadata": {
      "needs_background": "light"
     },
     "output_type": "display_data"
    }
   ],
   "source": [
    "#do for entire Test set\n",
    "\n",
    "train_labels=np.argmax(all_gt_sampled_oh, axis=1)\n",
    "#clf = svm.SVC(kernel='rbf', C=1, gamma=0.1).fit(all_features, train_labels)\n",
    "\n",
    "y_pred_train = clf.predict(all_features)\n",
    "print(accuracy_score(train_labels, y_pred_train))\n",
    "print(confusion_matrix(train_labels, y_pred_train))\n",
    "print(classification_report(train_labels, y_pred_train))\n",
    "\n",
    "import matplotlib.pyplot as plt\n",
    "plt.figure(figsize=(20,10))\n",
    "plt.plot(y_pred_train, 'r')\n",
    "plt.plot(train_labels+0.2, 'b')\n",
    "plt.title('Test set')\n",
    "plt.show()"
   ]
  },
  {
   "cell_type": "code",
   "execution_count": 22,
   "metadata": {},
   "outputs": [
    {
     "name": "stdout",
     "output_type": "stream",
     "text": [
      "0.6486419564968954\n",
      "[[  730  9273     0]\n",
      " [ 2379 33325     0]\n",
      " [    0  6795     0]]\n",
      "              precision    recall  f1-score   support\n",
      "\n",
      "           0       0.23      0.07      0.11     10003\n",
      "           1       0.67      0.93      0.78     35704\n",
      "           2       0.00      0.00      0.00      6795\n",
      "\n",
      "    accuracy                           0.65     52502\n",
      "   macro avg       0.30      0.34      0.30     52502\n",
      "weighted avg       0.50      0.65      0.55     52502\n",
      "\n"
     ]
    },
    {
     "name": "stderr",
     "output_type": "stream",
     "text": [
      "c:\\Users\\Nahian\\anaconda3\\envs\\pyKinectAzure\\lib\\site-packages\\sklearn\\metrics\\_classification.py:1344: UndefinedMetricWarning: Precision and F-score are ill-defined and being set to 0.0 in labels with no predicted samples. Use `zero_division` parameter to control this behavior.\n",
      "  _warn_prf(average, modifier, msg_start, len(result))\n",
      "c:\\Users\\Nahian\\anaconda3\\envs\\pyKinectAzure\\lib\\site-packages\\sklearn\\metrics\\_classification.py:1344: UndefinedMetricWarning: Precision and F-score are ill-defined and being set to 0.0 in labels with no predicted samples. Use `zero_division` parameter to control this behavior.\n",
      "  _warn_prf(average, modifier, msg_start, len(result))\n",
      "c:\\Users\\Nahian\\anaconda3\\envs\\pyKinectAzure\\lib\\site-packages\\sklearn\\metrics\\_classification.py:1344: UndefinedMetricWarning: Precision and F-score are ill-defined and being set to 0.0 in labels with no predicted samples. Use `zero_division` parameter to control this behavior.\n",
      "  _warn_prf(average, modifier, msg_start, len(result))\n"
     ]
    }
   ],
   "source": [
    "import pickle\n",
    "import os\n",
    "savepath=os.getcwd()\n",
    "savepath=os.path.join(savepath,'Trained models')\n",
    "filename = os.path.join(savepath,'svm_Jan19.sav')\n",
    "\n",
    "\n",
    "pickle.dump(clf, open(filename, 'wb'))\n",
    " \n",
    "# some time later...\n",
    " \n",
    "# load the model from disk\n",
    "clf_load= pickle.load(open(filename, 'rb'))\n",
    "y_pred_train = clf_load.predict(all_features)\n",
    "print(accuracy_score(train_labels, y_pred_train))\n",
    "print(confusion_matrix(train_labels, y_pred_train))\n",
    "print(classification_report(train_labels, y_pred_train))"
   ]
  },
  {
   "cell_type": "code",
   "execution_count": 23,
   "metadata": {},
   "outputs": [
    {
     "name": "stdout",
     "output_type": "stream",
     "text": [
      "0.6486419564968954\n",
      "[[  730  9273     0]\n",
      " [ 2379 33325     0]\n",
      " [    0  6795     0]]\n",
      "              precision    recall  f1-score   support\n",
      "\n",
      "           0       0.23      0.07      0.11     10003\n",
      "           1       0.67      0.93      0.78     35704\n",
      "           2       0.00      0.00      0.00      6795\n",
      "\n",
      "    accuracy                           0.65     52502\n",
      "   macro avg       0.30      0.34      0.30     52502\n",
      "weighted avg       0.50      0.65      0.55     52502\n",
      "\n"
     ]
    },
    {
     "name": "stderr",
     "output_type": "stream",
     "text": [
      "c:\\Users\\Nahian\\anaconda3\\envs\\pyKinectAzure\\lib\\site-packages\\sklearn\\metrics\\_classification.py:1344: UndefinedMetricWarning: Precision and F-score are ill-defined and being set to 0.0 in labels with no predicted samples. Use `zero_division` parameter to control this behavior.\n",
      "  _warn_prf(average, modifier, msg_start, len(result))\n",
      "c:\\Users\\Nahian\\anaconda3\\envs\\pyKinectAzure\\lib\\site-packages\\sklearn\\metrics\\_classification.py:1344: UndefinedMetricWarning: Precision and F-score are ill-defined and being set to 0.0 in labels with no predicted samples. Use `zero_division` parameter to control this behavior.\n",
      "  _warn_prf(average, modifier, msg_start, len(result))\n",
      "c:\\Users\\Nahian\\anaconda3\\envs\\pyKinectAzure\\lib\\site-packages\\sklearn\\metrics\\_classification.py:1344: UndefinedMetricWarning: Precision and F-score are ill-defined and being set to 0.0 in labels with no predicted samples. Use `zero_division` parameter to control this behavior.\n",
      "  _warn_prf(average, modifier, msg_start, len(result))\n"
     ]
    },
    {
     "data": {
      "image/png": "[encoded data removed]",
      "text/plain": [
       "<Figure size 1440x720 with 1 Axes>"
      ]
     },
     "metadata": {
      "needs_background": "light"
     },
     "output_type": "display_data"
    }
   ],
   "source": [
    "#With scaled features\n",
    "\n",
    "y_pred_train = clf_scaled.predict(all_features)\n",
    "print(accuracy_score(train_labels, y_pred_train))\n",
    "print(confusion_matrix(train_labels, y_pred_train))\n",
    "print(classification_report(train_labels, y_pred_train))\n",
    "\n",
    "import matplotlib.pyplot as plt\n",
    "plt.figure(figsize=(20,10))\n",
    "plt.plot(y_pred_train, 'r')\n",
    "plt.plot(train_labels+0.2, 'b')\n",
    "plt.title('Test set with scaled features')\n",
    "plt.legend(['Predicted','Ground truth'])\n",
    "plt.show()"
   ]
  },
  {
   "cell_type": "code",
   "execution_count": null,
   "metadata": {},
   "outputs": [],
   "source": []
  },
  {
   "cell_type": "code",
   "execution_count": null,
   "metadata": {},
   "outputs": [],
   "source": []
  }
 ],
 "metadata": {
  "kernelspec": {
   "display_name": "pyKinectAzure",
   "language": "python",
   "name": "python3"
  },
  "language_info": {
   "codemirror_mode": {
    "name": "ipython",
    "version": 3
   },
   "file_extension": ".py",
   "mimetype": "text/x-python",
   "name": "python",
   "nbconvert_exporter": "python",
   "pygments_lexer": "ipython3",
   "version": "3.8.12"
  },
  "orig_nbformat": 4
 },
 "nbformat": 4,
 "nbformat_minor": 2
}
